{
  "nbformat": 4,
  "nbformat_minor": 2,
  "metadata": {
    "kernelspec": {
      "name": "python3",
      "display_name": "Python 3.6.13 64-bit ('ssd': conda)"
    },
    "language_info": {
      "codemirror_mode": {
        "name": "ipython",
        "version": 3
      },
      "file_extension": ".py",
      "mimetype": "text/x-python",
      "name": "python",
      "nbconvert_exporter": "python",
      "pygments_lexer": "ipython3",
      "version": "3.6.13"
    },
    "colab": {
      "name": "2-7_SSD_training.ipynb",
      "provenance": [],
      "collapsed_sections": []
    },
    "interpreter": {
      "hash": "fb9cf5fa0711420248074c0927cf137dfb78192b9974ca2cec9397cd20a350c9"
    }
  },
  "cells": [
    {
      "cell_type": "markdown",
      "source": [
        "# 2.7 学習と検証の実施\n",
        "\n",
        "- 本ファイルでは、SSDの学習と検証の実施を行います。手元のマシンで動作を確認後、AWSのGPUマシンで計算します。\n",
        "- p2.xlargeで約6時間かかります。\n"
      ],
      "metadata": {
        "id": "NRDrOClOJvlA"
      }
    },
    {
      "cell_type": "markdown",
      "source": [
        "# 学習目標\n",
        "\n",
        "1.\tSSDの学習を実装できるようになる"
      ],
      "metadata": {
        "id": "dQkSZ3f7JvlH"
      }
    },
    {
      "cell_type": "markdown",
      "source": [
        "# 事前準備\n",
        "\n",
        "- AWS EC2 のGPUインスタンスを使用します\n",
        "- フォルダ「utils」のssd_model.pyをします"
      ],
      "metadata": {
        "id": "E-pUmMgPJvlI"
      }
    },
    {
      "cell_type": "code",
      "execution_count": 1,
      "source": [
        "# パッケージのimport\n",
        "import os.path as osp\n",
        "import random\n",
        "import time\n",
        "\n",
        "import cv2\n",
        "import numpy as np\n",
        "import pandas as pd\n",
        "import torch\n",
        "import torch.nn as nn\n",
        "import torch.nn.init as init\n",
        "import torch.optim as optim\n",
        "import torch.utils.data as data"
      ],
      "outputs": [],
      "metadata": {
        "id": "5wFXuAjsJvlI"
      }
    },
    {
      "cell_type": "code",
      "execution_count": 2,
      "source": [
        "# 乱数のシードを設定\n",
        "torch.manual_seed(1234)\n",
        "np.random.seed(1234)\n",
        "random.seed(1234)"
      ],
      "outputs": [],
      "metadata": {
        "id": "MKIiLcdZJvlJ"
      }
    },
    {
      "cell_type": "code",
      "execution_count": 3,
      "source": [
        "device = torch.device(\"cuda:0\" if torch.cuda.is_available() else \"cpu\")\n",
        "print(\"使用デバイス：\", device)"
      ],
      "outputs": [
        {
          "output_type": "stream",
          "name": "stdout",
          "text": [
            "使用デバイス： cuda:0\n"
          ]
        }
      ],
      "metadata": {
        "id": "fNcYx2L0JvlK",
        "outputId": "c2e8ec71-fb0c-4dd1-f05c-a1e6bf500a8a"
      }
    },
    {
      "cell_type": "markdown",
      "source": [
        "# DatasetとDataLoaderを作成する"
      ],
      "metadata": {
        "id": "Q2hwPVpFJvlK"
      }
    },
    {
      "cell_type": "code",
      "execution_count": 4,
      "source": [
        "from utils.ssd_model import make_datapath_list, VOCDataset, DataTransform, Anno_xml2list, od_collate_fn\n",
        "\n",
        "\n",
        "# ファイルパスのリストを取得\n",
        "#rootpath = \"./data/VOCdevkit/VOC2012/\"\n",
        "rootpath = \"./data/VOCdevkit/VOChati/\"\n",
        "train_img_list, train_anno_list, val_img_list, val_anno_list = make_datapath_list(\n",
        "    rootpath)\n",
        "\n",
        "# print(train_img_list)\n",
        "# a = cv2.imread(train_img_list[0])\n",
        "# print(a.shape)\n",
        "\n",
        "# Datasetを作成\n",
        "voc_classes = ['aeroplane', 'bicycle', 'bird', 'boat',\n",
        "               'bottle', 'bus', 'car', 'cat', 'chair',\n",
        "               'cow', 'diningtable', 'dog', 'horse',\n",
        "               'motorbike', 'person', 'pottedplant',\n",
        "               'sheep', 'sofa', 'train', 'tvmonitor', 'hati']\n",
        "color_mean = (104, 117, 123)  # (BGR)の色の平均値\n",
        "input_size = 300  # 画像のinputサイズを300×300にする\n",
        "\n",
        "train_dataset = VOCDataset(train_img_list, train_anno_list, phase=\"train\", transform=DataTransform(\n",
        "    input_size, color_mean), transform_anno=Anno_xml2list(voc_classes))\n",
        "\n",
        "val_dataset = VOCDataset(val_img_list, val_anno_list, phase=\"val\", transform=DataTransform(\n",
        "    input_size, color_mean), transform_anno=Anno_xml2list(voc_classes))\n",
        "\n",
        "\n",
        "# DataLoaderを作成する\n",
        "batch_size = 32\n",
        "\n",
        "train_dataloader = data.DataLoader(\n",
        "    train_dataset, batch_size=batch_size, shuffle=True, collate_fn=od_collate_fn)\n",
        "\n",
        "val_dataloader = data.DataLoader(\n",
        "    val_dataset, batch_size=batch_size, shuffle=False, collate_fn=od_collate_fn)\n",
        "\n",
        "# 辞書オブジェクトにまとめる\n",
        "dataloaders_dict = {\"train\": train_dataloader, \"val\": val_dataloader}\n"
      ],
      "outputs": [],
      "metadata": {
        "id": "9scicyiOJvlL"
      }
    },
    {
      "cell_type": "markdown",
      "source": [
        "# ネットワークモデルの作成する"
      ],
      "metadata": {
        "id": "Vbyl0KAwJvlL"
      }
    },
    {
      "cell_type": "code",
      "execution_count": 5,
      "source": [
        "from utils.ssd_model import SSD\n",
        "\n",
        "# SSD300の設定\n",
        "ssd_cfg = {\n",
        "    'num_classes': 21,  # 背景クラスを含めた合計クラス数\n",
        "    'input_size': 300,  # 画像の入力サイズ\n",
        "    'bbox_aspect_num': [4, 6, 6, 6, 4, 4],  # 出力するDBoxのアスペクト比の種類\n",
        "    'feature_maps': [38, 19, 10, 5, 3, 1],  # 各sourceの画像サイズ\n",
        "    'steps': [8, 16, 32, 64, 100, 300],  # DBOXの大きさを決める\n",
        "    'min_sizes': [30, 60, 111, 162, 213, 264],  # DBOXの大きさを決める\n",
        "    'max_sizes': [60, 111, 162, 213, 264, 315],  # DBOXの大きさを決める\n",
        "    'aspect_ratios': [[2], [2, 3], [2, 3], [2, 3], [2], [2]],\n",
        "}\n",
        "\n",
        "# SSDネットワークモデル\n",
        "net = SSD(phase=\"train\", cfg=ssd_cfg)\n",
        "\n",
        "# SSDの初期の重みを設定\n",
        "# ssdのvgg部分に重みをロードする\n",
        "vgg_weights = torch.load('./weights/vgg16_reducedfc.pth')\n",
        "net.vgg.load_state_dict(vgg_weights)\n",
        "\n",
        "# ssdのその他のネットワークの重みはHeの初期値で初期化\n",
        "\n",
        "\n",
        "def weights_init(m):\n",
        "    if isinstance(m, nn.Conv2d):\n",
        "        init.kaiming_normal_(m.weight.data)\n",
        "        if m.bias is not None:  # バイアス項がある場合\n",
        "            nn.init.constant_(m.bias, 0.0)\n",
        "\n",
        "\n",
        "# Heの初期値を適用\n",
        "net.extras.apply(weights_init)\n",
        "net.loc.apply(weights_init)\n",
        "net.conf.apply(weights_init)\n",
        "\n",
        "# GPUが使えるかを確認\n",
        "device = torch.device(\"cuda:0\" if torch.cuda.is_available() else \"cpu\")\n",
        "print(\"使用デバイス：\", device)\n",
        "\n",
        "print('ネットワーク設定完了：学習済みの重みをロードしました')\n"
      ],
      "outputs": [
        {
          "output_type": "stream",
          "name": "stdout",
          "text": [
            "使用デバイス： cuda:0\n",
            "ネットワーク設定完了：学習済みの重みをロードしました\n"
          ]
        }
      ],
      "metadata": {
        "id": "4dFZ6oVjJvlM",
        "outputId": "6e7542ee-79e0-412d-afcd-342f6927eb57"
      }
    },
    {
      "cell_type": "markdown",
      "source": [
        "# 損失関数と最適化手法を定義する"
      ],
      "metadata": {
        "id": "c5tGwXegJvlM"
      }
    },
    {
      "cell_type": "code",
      "execution_count": 6,
      "source": [
        "from utils.ssd_model import MultiBoxLoss\n",
        "\n",
        "# 損失関数の設定\n",
        "criterion = MultiBoxLoss(jaccard_thresh=0.5, neg_pos=3, device=device)\n",
        "\n",
        "# 最適化手法の設定\n",
        "optimizer = optim.SGD(net.parameters(), lr=1e-3,\n",
        "                      momentum=0.9, weight_decay=5e-4)\n"
      ],
      "outputs": [],
      "metadata": {
        "id": "IkZq2BPeJvlM"
      }
    },
    {
      "cell_type": "markdown",
      "source": [
        "# 学習・検証を実施する"
      ],
      "metadata": {
        "id": "PXpicFdQJvlN"
      }
    },
    {
      "cell_type": "code",
      "execution_count": 7,
      "source": [
        "# モデルを学習させる関数を作成\n",
        "\n",
        "\n",
        "def train_model(net, dataloaders_dict, criterion, optimizer, num_epochs):\n",
        "\n",
        "    # GPUが使えるかを確認\n",
        "    device = torch.device(\"cuda:0\" if torch.cuda.is_available() else \"cpu\")\n",
        "    print(\"使用デバイス：\", device)\n",
        "\n",
        "    # ネットワークをGPUへ\n",
        "    net.to(device)\n",
        "\n",
        "    # ネットワークがある程度固定であれば、高速化させる\n",
        "    torch.backends.cudnn.benchmark = True\n",
        "\n",
        "    # イテレーションカウンタをセット\n",
        "    iteration = 1\n",
        "    epoch_train_loss = 0.0  # epochの損失和\n",
        "    epoch_val_loss = 0.0  # epochの損失和\n",
        "    logs = []\n",
        "\n",
        "    # epochのループ\n",
        "    for epoch in range(num_epochs+1):\n",
        "\n",
        "        # 開始時刻を保存\n",
        "        t_epoch_start = time.time()\n",
        "        t_iter_start = time.time()\n",
        "\n",
        "        print('-------------')\n",
        "        print('Epoch {}/{}'.format(epoch+1, num_epochs))\n",
        "        print('-------------')\n",
        "\n",
        "        # epochごとの訓練と検証のループ\n",
        "        for phase in ['train', 'val']:\n",
        "            if phase == 'train':\n",
        "                net.train()  # モデルを訓練モードに\n",
        "                print('（train）')\n",
        "            else:\n",
        "                if((epoch+1) % 10 == 0):\n",
        "                    net.eval()   # モデルを検証モードに\n",
        "                    print('-------------')\n",
        "                    print('（val）')\n",
        "                else:\n",
        "                    # 検証は10回に1回だけ行う\n",
        "                    continue\n",
        "\n",
        "            # データローダーからminibatchずつ取り出すループ\n",
        "            for images, targets in dataloaders_dict[phase]:\n",
        "\n",
        "                # GPUが使えるならGPUにデータを送る\n",
        "                images = images.to(device)\n",
        "                targets = [ann.to(device)\n",
        "                           for ann in targets]  # リストの各要素のテンソルをGPUへ\n",
        "\n",
        "                # optimizerを初期化\n",
        "                optimizer.zero_grad()\n",
        "\n",
        "                # 順伝搬（forward）計算\n",
        "                with torch.set_grad_enabled(phase == 'train'):\n",
        "                    # 順伝搬（forward）計算\n",
        "                    outputs = net(images)\n",
        "\n",
        "                    # 損失の計算\n",
        "                    loss_l, loss_c = criterion(outputs, targets)\n",
        "                    loss = loss_l + loss_c\n",
        "\n",
        "                    # 訓練時はバックプロパゲーション\n",
        "                    if phase == 'train':\n",
        "                        loss.backward()  # 勾配の計算\n",
        "\n",
        "                        # 勾配が大きくなりすぎると計算が不安定になるので、clipで最大でも勾配2.0に留める\n",
        "                        nn.utils.clip_grad_value_(\n",
        "                            net.parameters(), clip_value=2.0)\n",
        "\n",
        "                        optimizer.step()  # パラメータ更新\n",
        "\n",
        "                        if (iteration % 10 == 0):  # 10iterに1度、lossを表示\n",
        "                            t_iter_finish = time.time()\n",
        "                            duration = t_iter_finish - t_iter_start\n",
        "                            print('イテレーション {} || Loss: {:.4f} || 10iter: {:.4f} sec.'.format(\n",
        "                                iteration, loss.item(), duration))\n",
        "                            t_iter_start = time.time()\n",
        "\n",
        "                        epoch_train_loss += loss.item()\n",
        "                        iteration += 1\n",
        "\n",
        "                    # 検証時\n",
        "                    else:\n",
        "                        epoch_val_loss += loss.item()\n",
        "\n",
        "        # epochのphaseごとのloss （Issue158での誤植修正）\n",
        "        t_epoch_finish = time.time()\n",
        "        print('-------------')\n",
        "        print('epoch {} || Epoch_TRAIN_Loss:{:.4f} ||Epoch_VAL_Loss:{:.4f}'.format(\n",
        "            epoch+1, epoch_train_loss, epoch_val_loss))\n",
        "        print('timer:  {:.4f} sec.'.format(t_epoch_finish - t_epoch_start))\n",
        "        t_epoch_start = time.time()\n",
        "\n",
        "        # ログを保存\n",
        "        log_epoch = {'epoch': epoch+1,\n",
        "                     'train_loss': epoch_train_loss, 'val_loss': epoch_val_loss}\n",
        "        logs.append(log_epoch)\n",
        "        df = pd.DataFrame(logs)\n",
        "        df.to_csv(\"log_output.csv\")\n",
        "\n",
        "        epoch_train_loss = 0.0  # epochの損失和\n",
        "        epoch_val_loss = 0.0  # epochの損失和\n",
        "\n",
        "        # ネットワークを保存する\n",
        "        if ((epoch+1) % 10 == 0):\n",
        "            torch.save(net.state_dict(), 'weights/ssd300_hati' +\n",
        "                       str(epoch+1) + '.pth')\n"
      ],
      "outputs": [],
      "metadata": {
        "id": "h5BNcGMKJvlN"
      }
    },
    {
      "cell_type": "code",
      "execution_count": 8,
      "source": [
        "# 学習・検証を実行する|__ VOC2007\n",
        "num_epochs= 50  \n",
        "train_model(net, dataloaders_dict, criterion, optimizer, num_epochs=num_epochs)"
      ],
      "outputs": [
        {
          "output_type": "stream",
          "name": "stdout",
          "text": [
            "使用デバイス： cuda:0\n",
            "-------------\n",
            "Epoch 1/50\n",
            "-------------\n",
            "（train）\n",
            "image_list\n",
            "['./data/VOCdevkit/VOChati/JPEGImages/1m2s.jpg', './data/VOCdevkit/VOChati/JPEGImages/1m17s.jpg', './data/VOCdevkit/VOChati/JPEGImages/1m30s.jpg', './data/VOCdevkit/VOChati/JPEGImages/1m37s.jpg', './data/VOCdevkit/VOChati/JPEGImages/1m47s.jpg', './data/VOCdevkit/VOChati/JPEGImages/1m50s.jpg', './data/VOCdevkit/VOChati/JPEGImages/2m.jpg', './data/VOCdevkit/VOChati/JPEGImages/2m10s.jpg', './data/VOCdevkit/VOChati/JPEGImages/2m15s.jpg', './data/VOCdevkit/VOChati/JPEGImages/2m20s.jpg', './data/VOCdevkit/VOChati/JPEGImages/2m25s.jpg', './data/VOCdevkit/VOChati/JPEGImages/2m30s.jpg', './data/VOCdevkit/VOChati/JPEGImages/2m40s.jpg', './data/VOCdevkit/VOChati/JPEGImages/2m45s.jpg', './data/VOCdevkit/VOChati/JPEGImages/2m50s.jpg', './data/VOCdevkit/VOChati/JPEGImages/2m55s.jpg', './data/VOCdevkit/VOChati/JPEGImages/3m.jpg', './data/VOCdevkit/VOChati/JPEGImages/3m5s.jpg', './data/VOCdevkit/VOChati/JPEGImages/13s.jpg', './data/VOCdevkit/VOChati/JPEGImages/50s.jpg', './data/VOCdevkit/VOChati/JPEGImages/57s.jpg', './data/VOCdevkit/VOChati/JPEGImages/s1.jpg']\n",
            "image_file_path\n",
            "./data/VOCdevkit/VOChati/JPEGImages/2m45s.jpg\n",
            "image_list\n",
            "['./data/VOCdevkit/VOChati/JPEGImages/1m2s.jpg', './data/VOCdevkit/VOChati/JPEGImages/1m17s.jpg', './data/VOCdevkit/VOChati/JPEGImages/1m30s.jpg', './data/VOCdevkit/VOChati/JPEGImages/1m37s.jpg', './data/VOCdevkit/VOChati/JPEGImages/1m47s.jpg', './data/VOCdevkit/VOChati/JPEGImages/1m50s.jpg', './data/VOCdevkit/VOChati/JPEGImages/2m.jpg', './data/VOCdevkit/VOChati/JPEGImages/2m10s.jpg', './data/VOCdevkit/VOChati/JPEGImages/2m15s.jpg', './data/VOCdevkit/VOChati/JPEGImages/2m20s.jpg', './data/VOCdevkit/VOChati/JPEGImages/2m25s.jpg', './data/VOCdevkit/VOChati/JPEGImages/2m30s.jpg', './data/VOCdevkit/VOChati/JPEGImages/2m40s.jpg', './data/VOCdevkit/VOChati/JPEGImages/2m45s.jpg', './data/VOCdevkit/VOChati/JPEGImages/2m50s.jpg', './data/VOCdevkit/VOChati/JPEGImages/2m55s.jpg', './data/VOCdevkit/VOChati/JPEGImages/3m.jpg', './data/VOCdevkit/VOChati/JPEGImages/3m5s.jpg', './data/VOCdevkit/VOChati/JPEGImages/13s.jpg', './data/VOCdevkit/VOChati/JPEGImages/50s.jpg', './data/VOCdevkit/VOChati/JPEGImages/57s.jpg', './data/VOCdevkit/VOChati/JPEGImages/s1.jpg']\n",
            "image_file_path\n",
            "./data/VOCdevkit/VOChati/JPEGImages/2m10s.jpg\n",
            "image_list\n",
            "['./data/VOCdevkit/VOChati/JPEGImages/1m2s.jpg', './data/VOCdevkit/VOChati/JPEGImages/1m17s.jpg', './data/VOCdevkit/VOChati/JPEGImages/1m30s.jpg', './data/VOCdevkit/VOChati/JPEGImages/1m37s.jpg', './data/VOCdevkit/VOChati/JPEGImages/1m47s.jpg', './data/VOCdevkit/VOChati/JPEGImages/1m50s.jpg', './data/VOCdevkit/VOChati/JPEGImages/2m.jpg', './data/VOCdevkit/VOChati/JPEGImages/2m10s.jpg', './data/VOCdevkit/VOChati/JPEGImages/2m15s.jpg', './data/VOCdevkit/VOChati/JPEGImages/2m20s.jpg', './data/VOCdevkit/VOChati/JPEGImages/2m25s.jpg', './data/VOCdevkit/VOChati/JPEGImages/2m30s.jpg', './data/VOCdevkit/VOChati/JPEGImages/2m40s.jpg', './data/VOCdevkit/VOChati/JPEGImages/2m45s.jpg', './data/VOCdevkit/VOChati/JPEGImages/2m50s.jpg', './data/VOCdevkit/VOChati/JPEGImages/2m55s.jpg', './data/VOCdevkit/VOChati/JPEGImages/3m.jpg', './data/VOCdevkit/VOChati/JPEGImages/3m5s.jpg', './data/VOCdevkit/VOChati/JPEGImages/13s.jpg', './data/VOCdevkit/VOChati/JPEGImages/50s.jpg', './data/VOCdevkit/VOChati/JPEGImages/57s.jpg', './data/VOCdevkit/VOChati/JPEGImages/s1.jpg']\n",
            "image_file_path\n",
            "./data/VOCdevkit/VOChati/JPEGImages/2m20s.jpg\n",
            "image_list\n",
            "['./data/VOCdevkit/VOChati/JPEGImages/1m2s.jpg', './data/VOCdevkit/VOChati/JPEGImages/1m17s.jpg', './data/VOCdevkit/VOChati/JPEGImages/1m30s.jpg', './data/VOCdevkit/VOChati/JPEGImages/1m37s.jpg', './data/VOCdevkit/VOChati/JPEGImages/1m47s.jpg', './data/VOCdevkit/VOChati/JPEGImages/1m50s.jpg', './data/VOCdevkit/VOChati/JPEGImages/2m.jpg', './data/VOCdevkit/VOChati/JPEGImages/2m10s.jpg', './data/VOCdevkit/VOChati/JPEGImages/2m15s.jpg', './data/VOCdevkit/VOChati/JPEGImages/2m20s.jpg', './data/VOCdevkit/VOChati/JPEGImages/2m25s.jpg', './data/VOCdevkit/VOChati/JPEGImages/2m30s.jpg', './data/VOCdevkit/VOChati/JPEGImages/2m40s.jpg', './data/VOCdevkit/VOChati/JPEGImages/2m45s.jpg', './data/VOCdevkit/VOChati/JPEGImages/2m50s.jpg', './data/VOCdevkit/VOChati/JPEGImages/2m55s.jpg', './data/VOCdevkit/VOChati/JPEGImages/3m.jpg', './data/VOCdevkit/VOChati/JPEGImages/3m5s.jpg', './data/VOCdevkit/VOChati/JPEGImages/13s.jpg', './data/VOCdevkit/VOChati/JPEGImages/50s.jpg', './data/VOCdevkit/VOChati/JPEGImages/57s.jpg', './data/VOCdevkit/VOChati/JPEGImages/s1.jpg']\n",
            "image_file_path\n",
            "./data/VOCdevkit/VOChati/JPEGImages/57s.jpg\n",
            "image_list\n",
            "['./data/VOCdevkit/VOChati/JPEGImages/1m2s.jpg', './data/VOCdevkit/VOChati/JPEGImages/1m17s.jpg', './data/VOCdevkit/VOChati/JPEGImages/1m30s.jpg', './data/VOCdevkit/VOChati/JPEGImages/1m37s.jpg', './data/VOCdevkit/VOChati/JPEGImages/1m47s.jpg', './data/VOCdevkit/VOChati/JPEGImages/1m50s.jpg', './data/VOCdevkit/VOChati/JPEGImages/2m.jpg', './data/VOCdevkit/VOChati/JPEGImages/2m10s.jpg', './data/VOCdevkit/VOChati/JPEGImages/2m15s.jpg', './data/VOCdevkit/VOChati/JPEGImages/2m20s.jpg', './data/VOCdevkit/VOChati/JPEGImages/2m25s.jpg', './data/VOCdevkit/VOChati/JPEGImages/2m30s.jpg', './data/VOCdevkit/VOChati/JPEGImages/2m40s.jpg', './data/VOCdevkit/VOChati/JPEGImages/2m45s.jpg', './data/VOCdevkit/VOChati/JPEGImages/2m50s.jpg', './data/VOCdevkit/VOChati/JPEGImages/2m55s.jpg', './data/VOCdevkit/VOChati/JPEGImages/3m.jpg', './data/VOCdevkit/VOChati/JPEGImages/3m5s.jpg', './data/VOCdevkit/VOChati/JPEGImages/13s.jpg', './data/VOCdevkit/VOChati/JPEGImages/50s.jpg', './data/VOCdevkit/VOChati/JPEGImages/57s.jpg', './data/VOCdevkit/VOChati/JPEGImages/s1.jpg']\n",
            "image_file_path\n",
            "./data/VOCdevkit/VOChati/JPEGImages/3m.jpg\n",
            "image_list\n",
            "['./data/VOCdevkit/VOChati/JPEGImages/1m2s.jpg', './data/VOCdevkit/VOChati/JPEGImages/1m17s.jpg', './data/VOCdevkit/VOChati/JPEGImages/1m30s.jpg', './data/VOCdevkit/VOChati/JPEGImages/1m37s.jpg', './data/VOCdevkit/VOChati/JPEGImages/1m47s.jpg', './data/VOCdevkit/VOChati/JPEGImages/1m50s.jpg', './data/VOCdevkit/VOChati/JPEGImages/2m.jpg', './data/VOCdevkit/VOChati/JPEGImages/2m10s.jpg', './data/VOCdevkit/VOChati/JPEGImages/2m15s.jpg', './data/VOCdevkit/VOChati/JPEGImages/2m20s.jpg', './data/VOCdevkit/VOChati/JPEGImages/2m25s.jpg', './data/VOCdevkit/VOChati/JPEGImages/2m30s.jpg', './data/VOCdevkit/VOChati/JPEGImages/2m40s.jpg', './data/VOCdevkit/VOChati/JPEGImages/2m45s.jpg', './data/VOCdevkit/VOChati/JPEGImages/2m50s.jpg', './data/VOCdevkit/VOChati/JPEGImages/2m55s.jpg', './data/VOCdevkit/VOChati/JPEGImages/3m.jpg', './data/VOCdevkit/VOChati/JPEGImages/3m5s.jpg', './data/VOCdevkit/VOChati/JPEGImages/13s.jpg', './data/VOCdevkit/VOChati/JPEGImages/50s.jpg', './data/VOCdevkit/VOChati/JPEGImages/57s.jpg', './data/VOCdevkit/VOChati/JPEGImages/s1.jpg']\n",
            "image_file_path\n",
            "./data/VOCdevkit/VOChati/JPEGImages/2m40s.jpg\n",
            "image_list\n",
            "['./data/VOCdevkit/VOChati/JPEGImages/1m2s.jpg', './data/VOCdevkit/VOChati/JPEGImages/1m17s.jpg', './data/VOCdevkit/VOChati/JPEGImages/1m30s.jpg', './data/VOCdevkit/VOChati/JPEGImages/1m37s.jpg', './data/VOCdevkit/VOChati/JPEGImages/1m47s.jpg', './data/VOCdevkit/VOChati/JPEGImages/1m50s.jpg', './data/VOCdevkit/VOChati/JPEGImages/2m.jpg', './data/VOCdevkit/VOChati/JPEGImages/2m10s.jpg', './data/VOCdevkit/VOChati/JPEGImages/2m15s.jpg', './data/VOCdevkit/VOChati/JPEGImages/2m20s.jpg', './data/VOCdevkit/VOChati/JPEGImages/2m25s.jpg', './data/VOCdevkit/VOChati/JPEGImages/2m30s.jpg', './data/VOCdevkit/VOChati/JPEGImages/2m40s.jpg', './data/VOCdevkit/VOChati/JPEGImages/2m45s.jpg', './data/VOCdevkit/VOChati/JPEGImages/2m50s.jpg', './data/VOCdevkit/VOChati/JPEGImages/2m55s.jpg', './data/VOCdevkit/VOChati/JPEGImages/3m.jpg', './data/VOCdevkit/VOChati/JPEGImages/3m5s.jpg', './data/VOCdevkit/VOChati/JPEGImages/13s.jpg', './data/VOCdevkit/VOChati/JPEGImages/50s.jpg', './data/VOCdevkit/VOChati/JPEGImages/57s.jpg', './data/VOCdevkit/VOChati/JPEGImages/s1.jpg']\n",
            "image_file_path\n",
            "./data/VOCdevkit/VOChati/JPEGImages/50s.jpg\n",
            "image_list\n",
            "['./data/VOCdevkit/VOChati/JPEGImages/1m2s.jpg', './data/VOCdevkit/VOChati/JPEGImages/1m17s.jpg', './data/VOCdevkit/VOChati/JPEGImages/1m30s.jpg', './data/VOCdevkit/VOChati/JPEGImages/1m37s.jpg', './data/VOCdevkit/VOChati/JPEGImages/1m47s.jpg', './data/VOCdevkit/VOChati/JPEGImages/1m50s.jpg', './data/VOCdevkit/VOChati/JPEGImages/2m.jpg', './data/VOCdevkit/VOChati/JPEGImages/2m10s.jpg', './data/VOCdevkit/VOChati/JPEGImages/2m15s.jpg', './data/VOCdevkit/VOChati/JPEGImages/2m20s.jpg', './data/VOCdevkit/VOChati/JPEGImages/2m25s.jpg', './data/VOCdevkit/VOChati/JPEGImages/2m30s.jpg', './data/VOCdevkit/VOChati/JPEGImages/2m40s.jpg', './data/VOCdevkit/VOChati/JPEGImages/2m45s.jpg', './data/VOCdevkit/VOChati/JPEGImages/2m50s.jpg', './data/VOCdevkit/VOChati/JPEGImages/2m55s.jpg', './data/VOCdevkit/VOChati/JPEGImages/3m.jpg', './data/VOCdevkit/VOChati/JPEGImages/3m5s.jpg', './data/VOCdevkit/VOChati/JPEGImages/13s.jpg', './data/VOCdevkit/VOChati/JPEGImages/50s.jpg', './data/VOCdevkit/VOChati/JPEGImages/57s.jpg', './data/VOCdevkit/VOChati/JPEGImages/s1.jpg']\n",
            "image_file_path\n",
            "./data/VOCdevkit/VOChati/JPEGImages/2m30s.jpg\n",
            "image_list\n",
            "['./data/VOCdevkit/VOChati/JPEGImages/1m2s.jpg', './data/VOCdevkit/VOChati/JPEGImages/1m17s.jpg', './data/VOCdevkit/VOChati/JPEGImages/1m30s.jpg', './data/VOCdevkit/VOChati/JPEGImages/1m37s.jpg', './data/VOCdevkit/VOChati/JPEGImages/1m47s.jpg', './data/VOCdevkit/VOChati/JPEGImages/1m50s.jpg', './data/VOCdevkit/VOChati/JPEGImages/2m.jpg', './data/VOCdevkit/VOChati/JPEGImages/2m10s.jpg', './data/VOCdevkit/VOChati/JPEGImages/2m15s.jpg', './data/VOCdevkit/VOChati/JPEGImages/2m20s.jpg', './data/VOCdevkit/VOChati/JPEGImages/2m25s.jpg', './data/VOCdevkit/VOChati/JPEGImages/2m30s.jpg', './data/VOCdevkit/VOChati/JPEGImages/2m40s.jpg', './data/VOCdevkit/VOChati/JPEGImages/2m45s.jpg', './data/VOCdevkit/VOChati/JPEGImages/2m50s.jpg', './data/VOCdevkit/VOChati/JPEGImages/2m55s.jpg', './data/VOCdevkit/VOChati/JPEGImages/3m.jpg', './data/VOCdevkit/VOChati/JPEGImages/3m5s.jpg', './data/VOCdevkit/VOChati/JPEGImages/13s.jpg', './data/VOCdevkit/VOChati/JPEGImages/50s.jpg', './data/VOCdevkit/VOChati/JPEGImages/57s.jpg', './data/VOCdevkit/VOChati/JPEGImages/s1.jpg']\n",
            "image_file_path\n",
            "./data/VOCdevkit/VOChati/JPEGImages/13s.jpg\n",
            "image_list\n",
            "['./data/VOCdevkit/VOChati/JPEGImages/1m2s.jpg', './data/VOCdevkit/VOChati/JPEGImages/1m17s.jpg', './data/VOCdevkit/VOChati/JPEGImages/1m30s.jpg', './data/VOCdevkit/VOChati/JPEGImages/1m37s.jpg', './data/VOCdevkit/VOChati/JPEGImages/1m47s.jpg', './data/VOCdevkit/VOChati/JPEGImages/1m50s.jpg', './data/VOCdevkit/VOChati/JPEGImages/2m.jpg', './data/VOCdevkit/VOChati/JPEGImages/2m10s.jpg', './data/VOCdevkit/VOChati/JPEGImages/2m15s.jpg', './data/VOCdevkit/VOChati/JPEGImages/2m20s.jpg', './data/VOCdevkit/VOChati/JPEGImages/2m25s.jpg', './data/VOCdevkit/VOChati/JPEGImages/2m30s.jpg', './data/VOCdevkit/VOChati/JPEGImages/2m40s.jpg', './data/VOCdevkit/VOChati/JPEGImages/2m45s.jpg', './data/VOCdevkit/VOChati/JPEGImages/2m50s.jpg', './data/VOCdevkit/VOChati/JPEGImages/2m55s.jpg', './data/VOCdevkit/VOChati/JPEGImages/3m.jpg', './data/VOCdevkit/VOChati/JPEGImages/3m5s.jpg', './data/VOCdevkit/VOChati/JPEGImages/13s.jpg', './data/VOCdevkit/VOChati/JPEGImages/50s.jpg', './data/VOCdevkit/VOChati/JPEGImages/57s.jpg', './data/VOCdevkit/VOChati/JPEGImages/s1.jpg']\n",
            "image_file_path\n",
            "./data/VOCdevkit/VOChati/JPEGImages/1m2s.jpg\n",
            "image_list\n",
            "['./data/VOCdevkit/VOChati/JPEGImages/1m2s.jpg', './data/VOCdevkit/VOChati/JPEGImages/1m17s.jpg', './data/VOCdevkit/VOChati/JPEGImages/1m30s.jpg', './data/VOCdevkit/VOChati/JPEGImages/1m37s.jpg', './data/VOCdevkit/VOChati/JPEGImages/1m47s.jpg', './data/VOCdevkit/VOChati/JPEGImages/1m50s.jpg', './data/VOCdevkit/VOChati/JPEGImages/2m.jpg', './data/VOCdevkit/VOChati/JPEGImages/2m10s.jpg', './data/VOCdevkit/VOChati/JPEGImages/2m15s.jpg', './data/VOCdevkit/VOChati/JPEGImages/2m20s.jpg', './data/VOCdevkit/VOChati/JPEGImages/2m25s.jpg', './data/VOCdevkit/VOChati/JPEGImages/2m30s.jpg', './data/VOCdevkit/VOChati/JPEGImages/2m40s.jpg', './data/VOCdevkit/VOChati/JPEGImages/2m45s.jpg', './data/VOCdevkit/VOChati/JPEGImages/2m50s.jpg', './data/VOCdevkit/VOChati/JPEGImages/2m55s.jpg', './data/VOCdevkit/VOChati/JPEGImages/3m.jpg', './data/VOCdevkit/VOChati/JPEGImages/3m5s.jpg', './data/VOCdevkit/VOChati/JPEGImages/13s.jpg', './data/VOCdevkit/VOChati/JPEGImages/50s.jpg', './data/VOCdevkit/VOChati/JPEGImages/57s.jpg', './data/VOCdevkit/VOChati/JPEGImages/s1.jpg']\n",
            "image_file_path\n",
            "./data/VOCdevkit/VOChati/JPEGImages/2m15s.jpg\n",
            "image_list\n",
            "['./data/VOCdevkit/VOChati/JPEGImages/1m2s.jpg', './data/VOCdevkit/VOChati/JPEGImages/1m17s.jpg', './data/VOCdevkit/VOChati/JPEGImages/1m30s.jpg', './data/VOCdevkit/VOChati/JPEGImages/1m37s.jpg', './data/VOCdevkit/VOChati/JPEGImages/1m47s.jpg', './data/VOCdevkit/VOChati/JPEGImages/1m50s.jpg', './data/VOCdevkit/VOChati/JPEGImages/2m.jpg', './data/VOCdevkit/VOChati/JPEGImages/2m10s.jpg', './data/VOCdevkit/VOChati/JPEGImages/2m15s.jpg', './data/VOCdevkit/VOChati/JPEGImages/2m20s.jpg', './data/VOCdevkit/VOChati/JPEGImages/2m25s.jpg', './data/VOCdevkit/VOChati/JPEGImages/2m30s.jpg', './data/VOCdevkit/VOChati/JPEGImages/2m40s.jpg', './data/VOCdevkit/VOChati/JPEGImages/2m45s.jpg', './data/VOCdevkit/VOChati/JPEGImages/2m50s.jpg', './data/VOCdevkit/VOChati/JPEGImages/2m55s.jpg', './data/VOCdevkit/VOChati/JPEGImages/3m.jpg', './data/VOCdevkit/VOChati/JPEGImages/3m5s.jpg', './data/VOCdevkit/VOChati/JPEGImages/13s.jpg', './data/VOCdevkit/VOChati/JPEGImages/50s.jpg', './data/VOCdevkit/VOChati/JPEGImages/57s.jpg', './data/VOCdevkit/VOChati/JPEGImages/s1.jpg']\n",
            "image_file_path\n",
            "./data/VOCdevkit/VOChati/JPEGImages/3m5s.jpg\n",
            "image_list\n",
            "['./data/VOCdevkit/VOChati/JPEGImages/1m2s.jpg', './data/VOCdevkit/VOChati/JPEGImages/1m17s.jpg', './data/VOCdevkit/VOChati/JPEGImages/1m30s.jpg', './data/VOCdevkit/VOChati/JPEGImages/1m37s.jpg', './data/VOCdevkit/VOChati/JPEGImages/1m47s.jpg', './data/VOCdevkit/VOChati/JPEGImages/1m50s.jpg', './data/VOCdevkit/VOChati/JPEGImages/2m.jpg', './data/VOCdevkit/VOChati/JPEGImages/2m10s.jpg', './data/VOCdevkit/VOChati/JPEGImages/2m15s.jpg', './data/VOCdevkit/VOChati/JPEGImages/2m20s.jpg', './data/VOCdevkit/VOChati/JPEGImages/2m25s.jpg', './data/VOCdevkit/VOChati/JPEGImages/2m30s.jpg', './data/VOCdevkit/VOChati/JPEGImages/2m40s.jpg', './data/VOCdevkit/VOChati/JPEGImages/2m45s.jpg', './data/VOCdevkit/VOChati/JPEGImages/2m50s.jpg', './data/VOCdevkit/VOChati/JPEGImages/2m55s.jpg', './data/VOCdevkit/VOChati/JPEGImages/3m.jpg', './data/VOCdevkit/VOChati/JPEGImages/3m5s.jpg', './data/VOCdevkit/VOChati/JPEGImages/13s.jpg', './data/VOCdevkit/VOChati/JPEGImages/50s.jpg', './data/VOCdevkit/VOChati/JPEGImages/57s.jpg', './data/VOCdevkit/VOChati/JPEGImages/s1.jpg']\n",
            "image_file_path\n",
            "./data/VOCdevkit/VOChati/JPEGImages/1m37s.jpg\n",
            "image_list\n",
            "['./data/VOCdevkit/VOChati/JPEGImages/1m2s.jpg', './data/VOCdevkit/VOChati/JPEGImages/1m17s.jpg', './data/VOCdevkit/VOChati/JPEGImages/1m30s.jpg', './data/VOCdevkit/VOChati/JPEGImages/1m37s.jpg', './data/VOCdevkit/VOChati/JPEGImages/1m47s.jpg', './data/VOCdevkit/VOChati/JPEGImages/1m50s.jpg', './data/VOCdevkit/VOChati/JPEGImages/2m.jpg', './data/VOCdevkit/VOChati/JPEGImages/2m10s.jpg', './data/VOCdevkit/VOChati/JPEGImages/2m15s.jpg', './data/VOCdevkit/VOChati/JPEGImages/2m20s.jpg', './data/VOCdevkit/VOChati/JPEGImages/2m25s.jpg', './data/VOCdevkit/VOChati/JPEGImages/2m30s.jpg', './data/VOCdevkit/VOChati/JPEGImages/2m40s.jpg', './data/VOCdevkit/VOChati/JPEGImages/2m45s.jpg', './data/VOCdevkit/VOChati/JPEGImages/2m50s.jpg', './data/VOCdevkit/VOChati/JPEGImages/2m55s.jpg', './data/VOCdevkit/VOChati/JPEGImages/3m.jpg', './data/VOCdevkit/VOChati/JPEGImages/3m5s.jpg', './data/VOCdevkit/VOChati/JPEGImages/13s.jpg', './data/VOCdevkit/VOChati/JPEGImages/50s.jpg', './data/VOCdevkit/VOChati/JPEGImages/57s.jpg', './data/VOCdevkit/VOChati/JPEGImages/s1.jpg']\n",
            "image_file_path\n",
            "./data/VOCdevkit/VOChati/JPEGImages/2m50s.jpg\n",
            "image_list\n",
            "['./data/VOCdevkit/VOChati/JPEGImages/1m2s.jpg', './data/VOCdevkit/VOChati/JPEGImages/1m17s.jpg', './data/VOCdevkit/VOChati/JPEGImages/1m30s.jpg', './data/VOCdevkit/VOChati/JPEGImages/1m37s.jpg', './data/VOCdevkit/VOChati/JPEGImages/1m47s.jpg', './data/VOCdevkit/VOChati/JPEGImages/1m50s.jpg', './data/VOCdevkit/VOChati/JPEGImages/2m.jpg', './data/VOCdevkit/VOChati/JPEGImages/2m10s.jpg', './data/VOCdevkit/VOChati/JPEGImages/2m15s.jpg', './data/VOCdevkit/VOChati/JPEGImages/2m20s.jpg', './data/VOCdevkit/VOChati/JPEGImages/2m25s.jpg', './data/VOCdevkit/VOChati/JPEGImages/2m30s.jpg', './data/VOCdevkit/VOChati/JPEGImages/2m40s.jpg', './data/VOCdevkit/VOChati/JPEGImages/2m45s.jpg', './data/VOCdevkit/VOChati/JPEGImages/2m50s.jpg', './data/VOCdevkit/VOChati/JPEGImages/2m55s.jpg', './data/VOCdevkit/VOChati/JPEGImages/3m.jpg', './data/VOCdevkit/VOChati/JPEGImages/3m5s.jpg', './data/VOCdevkit/VOChati/JPEGImages/13s.jpg', './data/VOCdevkit/VOChati/JPEGImages/50s.jpg', './data/VOCdevkit/VOChati/JPEGImages/57s.jpg', './data/VOCdevkit/VOChati/JPEGImages/s1.jpg']\n",
            "image_file_path\n",
            "./data/VOCdevkit/VOChati/JPEGImages/1m17s.jpg\n",
            "image_list\n",
            "['./data/VOCdevkit/VOChati/JPEGImages/1m2s.jpg', './data/VOCdevkit/VOChati/JPEGImages/1m17s.jpg', './data/VOCdevkit/VOChati/JPEGImages/1m30s.jpg', './data/VOCdevkit/VOChati/JPEGImages/1m37s.jpg', './data/VOCdevkit/VOChati/JPEGImages/1m47s.jpg', './data/VOCdevkit/VOChati/JPEGImages/1m50s.jpg', './data/VOCdevkit/VOChati/JPEGImages/2m.jpg', './data/VOCdevkit/VOChati/JPEGImages/2m10s.jpg', './data/VOCdevkit/VOChati/JPEGImages/2m15s.jpg', './data/VOCdevkit/VOChati/JPEGImages/2m20s.jpg', './data/VOCdevkit/VOChati/JPEGImages/2m25s.jpg', './data/VOCdevkit/VOChati/JPEGImages/2m30s.jpg', './data/VOCdevkit/VOChati/JPEGImages/2m40s.jpg', './data/VOCdevkit/VOChati/JPEGImages/2m45s.jpg', './data/VOCdevkit/VOChati/JPEGImages/2m50s.jpg', './data/VOCdevkit/VOChati/JPEGImages/2m55s.jpg', './data/VOCdevkit/VOChati/JPEGImages/3m.jpg', './data/VOCdevkit/VOChati/JPEGImages/3m5s.jpg', './data/VOCdevkit/VOChati/JPEGImages/13s.jpg', './data/VOCdevkit/VOChati/JPEGImages/50s.jpg', './data/VOCdevkit/VOChati/JPEGImages/57s.jpg', './data/VOCdevkit/VOChati/JPEGImages/s1.jpg']\n",
            "image_file_path\n",
            "./data/VOCdevkit/VOChati/JPEGImages/2m.jpg\n",
            "image_list\n",
            "['./data/VOCdevkit/VOChati/JPEGImages/1m2s.jpg', './data/VOCdevkit/VOChati/JPEGImages/1m17s.jpg', './data/VOCdevkit/VOChati/JPEGImages/1m30s.jpg', './data/VOCdevkit/VOChati/JPEGImages/1m37s.jpg', './data/VOCdevkit/VOChati/JPEGImages/1m47s.jpg', './data/VOCdevkit/VOChati/JPEGImages/1m50s.jpg', './data/VOCdevkit/VOChati/JPEGImages/2m.jpg', './data/VOCdevkit/VOChati/JPEGImages/2m10s.jpg', './data/VOCdevkit/VOChati/JPEGImages/2m15s.jpg', './data/VOCdevkit/VOChati/JPEGImages/2m20s.jpg', './data/VOCdevkit/VOChati/JPEGImages/2m25s.jpg', './data/VOCdevkit/VOChati/JPEGImages/2m30s.jpg', './data/VOCdevkit/VOChati/JPEGImages/2m40s.jpg', './data/VOCdevkit/VOChati/JPEGImages/2m45s.jpg', './data/VOCdevkit/VOChati/JPEGImages/2m50s.jpg', './data/VOCdevkit/VOChati/JPEGImages/2m55s.jpg', './data/VOCdevkit/VOChati/JPEGImages/3m.jpg', './data/VOCdevkit/VOChati/JPEGImages/3m5s.jpg', './data/VOCdevkit/VOChati/JPEGImages/13s.jpg', './data/VOCdevkit/VOChati/JPEGImages/50s.jpg', './data/VOCdevkit/VOChati/JPEGImages/57s.jpg', './data/VOCdevkit/VOChati/JPEGImages/s1.jpg']\n",
            "image_file_path\n",
            "./data/VOCdevkit/VOChati/JPEGImages/2m25s.jpg\n",
            "image_list\n",
            "['./data/VOCdevkit/VOChati/JPEGImages/1m2s.jpg', './data/VOCdevkit/VOChati/JPEGImages/1m17s.jpg', './data/VOCdevkit/VOChati/JPEGImages/1m30s.jpg', './data/VOCdevkit/VOChati/JPEGImages/1m37s.jpg', './data/VOCdevkit/VOChati/JPEGImages/1m47s.jpg', './data/VOCdevkit/VOChati/JPEGImages/1m50s.jpg', './data/VOCdevkit/VOChati/JPEGImages/2m.jpg', './data/VOCdevkit/VOChati/JPEGImages/2m10s.jpg', './data/VOCdevkit/VOChati/JPEGImages/2m15s.jpg', './data/VOCdevkit/VOChati/JPEGImages/2m20s.jpg', './data/VOCdevkit/VOChati/JPEGImages/2m25s.jpg', './data/VOCdevkit/VOChati/JPEGImages/2m30s.jpg', './data/VOCdevkit/VOChati/JPEGImages/2m40s.jpg', './data/VOCdevkit/VOChati/JPEGImages/2m45s.jpg', './data/VOCdevkit/VOChati/JPEGImages/2m50s.jpg', './data/VOCdevkit/VOChati/JPEGImages/2m55s.jpg', './data/VOCdevkit/VOChati/JPEGImages/3m.jpg', './data/VOCdevkit/VOChati/JPEGImages/3m5s.jpg', './data/VOCdevkit/VOChati/JPEGImages/13s.jpg', './data/VOCdevkit/VOChati/JPEGImages/50s.jpg', './data/VOCdevkit/VOChati/JPEGImages/57s.jpg', './data/VOCdevkit/VOChati/JPEGImages/s1.jpg']\n",
            "image_file_path\n",
            "./data/VOCdevkit/VOChati/JPEGImages/1m47s.jpg\n",
            "image_list\n",
            "['./data/VOCdevkit/VOChati/JPEGImages/1m2s.jpg', './data/VOCdevkit/VOChati/JPEGImages/1m17s.jpg', './data/VOCdevkit/VOChati/JPEGImages/1m30s.jpg', './data/VOCdevkit/VOChati/JPEGImages/1m37s.jpg', './data/VOCdevkit/VOChati/JPEGImages/1m47s.jpg', './data/VOCdevkit/VOChati/JPEGImages/1m50s.jpg', './data/VOCdevkit/VOChati/JPEGImages/2m.jpg', './data/VOCdevkit/VOChati/JPEGImages/2m10s.jpg', './data/VOCdevkit/VOChati/JPEGImages/2m15s.jpg', './data/VOCdevkit/VOChati/JPEGImages/2m20s.jpg', './data/VOCdevkit/VOChati/JPEGImages/2m25s.jpg', './data/VOCdevkit/VOChati/JPEGImages/2m30s.jpg', './data/VOCdevkit/VOChati/JPEGImages/2m40s.jpg', './data/VOCdevkit/VOChati/JPEGImages/2m45s.jpg', './data/VOCdevkit/VOChati/JPEGImages/2m50s.jpg', './data/VOCdevkit/VOChati/JPEGImages/2m55s.jpg', './data/VOCdevkit/VOChati/JPEGImages/3m.jpg', './data/VOCdevkit/VOChati/JPEGImages/3m5s.jpg', './data/VOCdevkit/VOChati/JPEGImages/13s.jpg', './data/VOCdevkit/VOChati/JPEGImages/50s.jpg', './data/VOCdevkit/VOChati/JPEGImages/57s.jpg', './data/VOCdevkit/VOChati/JPEGImages/s1.jpg']\n",
            "image_file_path\n",
            "./data/VOCdevkit/VOChati/JPEGImages/1m50s.jpg\n"
          ]
        },
        {
          "output_type": "error",
          "ename": "FileNotFoundError",
          "evalue": "[Errno 2] No such file or directory: './data/VOCdevkit/VOChati/Annotations/1m50s.xml'",
          "traceback": [
            "\u001b[0;31m---------------------------------------------------------------------------\u001b[0m",
            "\u001b[0;31mFileNotFoundError\u001b[0m                         Traceback (most recent call last)",
            "\u001b[0;32m<ipython-input-8-802a79c0d95c>\u001b[0m in \u001b[0;36m<module>\u001b[0;34m\u001b[0m\n\u001b[1;32m      1\u001b[0m \u001b[0;31m# 学習・検証を実行する|__ VOC2007\u001b[0m\u001b[0;34m\u001b[0m\u001b[0;34m\u001b[0m\u001b[0;34m\u001b[0m\u001b[0m\n\u001b[1;32m      2\u001b[0m \u001b[0mnum_epochs\u001b[0m\u001b[0;34m=\u001b[0m \u001b[0;36m50\u001b[0m\u001b[0;34m\u001b[0m\u001b[0;34m\u001b[0m\u001b[0m\n\u001b[0;32m----> 3\u001b[0;31m \u001b[0mtrain_model\u001b[0m\u001b[0;34m(\u001b[0m\u001b[0mnet\u001b[0m\u001b[0;34m,\u001b[0m \u001b[0mdataloaders_dict\u001b[0m\u001b[0;34m,\u001b[0m \u001b[0mcriterion\u001b[0m\u001b[0;34m,\u001b[0m \u001b[0moptimizer\u001b[0m\u001b[0;34m,\u001b[0m \u001b[0mnum_epochs\u001b[0m\u001b[0;34m=\u001b[0m\u001b[0mnum_epochs\u001b[0m\u001b[0;34m)\u001b[0m\u001b[0;34m\u001b[0m\u001b[0;34m\u001b[0m\u001b[0m\n\u001b[0m",
            "\u001b[0;32m<ipython-input-7-c0ad6e8bf057>\u001b[0m in \u001b[0;36mtrain_model\u001b[0;34m(net, dataloaders_dict, criterion, optimizer, num_epochs)\u001b[0m\n\u001b[1;32m     46\u001b[0m \u001b[0;34m\u001b[0m\u001b[0m\n\u001b[1;32m     47\u001b[0m             \u001b[0;31m# データローダーからminibatchずつ取り出すループ\u001b[0m\u001b[0;34m\u001b[0m\u001b[0;34m\u001b[0m\u001b[0;34m\u001b[0m\u001b[0m\n\u001b[0;32m---> 48\u001b[0;31m             \u001b[0;32mfor\u001b[0m \u001b[0mimages\u001b[0m\u001b[0;34m,\u001b[0m \u001b[0mtargets\u001b[0m \u001b[0;32min\u001b[0m \u001b[0mdataloaders_dict\u001b[0m\u001b[0;34m[\u001b[0m\u001b[0mphase\u001b[0m\u001b[0;34m]\u001b[0m\u001b[0;34m:\u001b[0m\u001b[0;34m\u001b[0m\u001b[0;34m\u001b[0m\u001b[0m\n\u001b[0m\u001b[1;32m     49\u001b[0m \u001b[0;34m\u001b[0m\u001b[0m\n\u001b[1;32m     50\u001b[0m                 \u001b[0;31m# GPUが使えるならGPUにデータを送る\u001b[0m\u001b[0;34m\u001b[0m\u001b[0;34m\u001b[0m\u001b[0;34m\u001b[0m\u001b[0m\n",
            "\u001b[0;32m~/anaconda3/envs/ssd/lib/python3.6/site-packages/torch/utils/data/dataloader.py\u001b[0m in \u001b[0;36m__next__\u001b[0;34m(self)\u001b[0m\n\u001b[1;32m    558\u001b[0m         \u001b[0;32mif\u001b[0m \u001b[0mself\u001b[0m\u001b[0;34m.\u001b[0m\u001b[0mnum_workers\u001b[0m \u001b[0;34m==\u001b[0m \u001b[0;36m0\u001b[0m\u001b[0;34m:\u001b[0m  \u001b[0;31m# same-process loading\u001b[0m\u001b[0;34m\u001b[0m\u001b[0;34m\u001b[0m\u001b[0m\n\u001b[1;32m    559\u001b[0m             \u001b[0mindices\u001b[0m \u001b[0;34m=\u001b[0m \u001b[0mnext\u001b[0m\u001b[0;34m(\u001b[0m\u001b[0mself\u001b[0m\u001b[0;34m.\u001b[0m\u001b[0msample_iter\u001b[0m\u001b[0;34m)\u001b[0m  \u001b[0;31m# may raise StopIteration\u001b[0m\u001b[0;34m\u001b[0m\u001b[0;34m\u001b[0m\u001b[0m\n\u001b[0;32m--> 560\u001b[0;31m             \u001b[0mbatch\u001b[0m \u001b[0;34m=\u001b[0m \u001b[0mself\u001b[0m\u001b[0;34m.\u001b[0m\u001b[0mcollate_fn\u001b[0m\u001b[0;34m(\u001b[0m\u001b[0;34m[\u001b[0m\u001b[0mself\u001b[0m\u001b[0;34m.\u001b[0m\u001b[0mdataset\u001b[0m\u001b[0;34m[\u001b[0m\u001b[0mi\u001b[0m\u001b[0;34m]\u001b[0m \u001b[0;32mfor\u001b[0m \u001b[0mi\u001b[0m \u001b[0;32min\u001b[0m \u001b[0mindices\u001b[0m\u001b[0;34m]\u001b[0m\u001b[0;34m)\u001b[0m\u001b[0;34m\u001b[0m\u001b[0;34m\u001b[0m\u001b[0m\n\u001b[0m\u001b[1;32m    561\u001b[0m             \u001b[0;32mif\u001b[0m \u001b[0mself\u001b[0m\u001b[0;34m.\u001b[0m\u001b[0mpin_memory\u001b[0m\u001b[0;34m:\u001b[0m\u001b[0;34m\u001b[0m\u001b[0;34m\u001b[0m\u001b[0m\n\u001b[1;32m    562\u001b[0m                 \u001b[0mbatch\u001b[0m \u001b[0;34m=\u001b[0m \u001b[0m_utils\u001b[0m\u001b[0;34m.\u001b[0m\u001b[0mpin_memory\u001b[0m\u001b[0;34m.\u001b[0m\u001b[0mpin_memory_batch\u001b[0m\u001b[0;34m(\u001b[0m\u001b[0mbatch\u001b[0m\u001b[0;34m)\u001b[0m\u001b[0;34m\u001b[0m\u001b[0;34m\u001b[0m\u001b[0m\n",
            "\u001b[0;32m~/anaconda3/envs/ssd/lib/python3.6/site-packages/torch/utils/data/dataloader.py\u001b[0m in \u001b[0;36m<listcomp>\u001b[0;34m(.0)\u001b[0m\n\u001b[1;32m    558\u001b[0m         \u001b[0;32mif\u001b[0m \u001b[0mself\u001b[0m\u001b[0;34m.\u001b[0m\u001b[0mnum_workers\u001b[0m \u001b[0;34m==\u001b[0m \u001b[0;36m0\u001b[0m\u001b[0;34m:\u001b[0m  \u001b[0;31m# same-process loading\u001b[0m\u001b[0;34m\u001b[0m\u001b[0;34m\u001b[0m\u001b[0m\n\u001b[1;32m    559\u001b[0m             \u001b[0mindices\u001b[0m \u001b[0;34m=\u001b[0m \u001b[0mnext\u001b[0m\u001b[0;34m(\u001b[0m\u001b[0mself\u001b[0m\u001b[0;34m.\u001b[0m\u001b[0msample_iter\u001b[0m\u001b[0;34m)\u001b[0m  \u001b[0;31m# may raise StopIteration\u001b[0m\u001b[0;34m\u001b[0m\u001b[0;34m\u001b[0m\u001b[0m\n\u001b[0;32m--> 560\u001b[0;31m             \u001b[0mbatch\u001b[0m \u001b[0;34m=\u001b[0m \u001b[0mself\u001b[0m\u001b[0;34m.\u001b[0m\u001b[0mcollate_fn\u001b[0m\u001b[0;34m(\u001b[0m\u001b[0;34m[\u001b[0m\u001b[0mself\u001b[0m\u001b[0;34m.\u001b[0m\u001b[0mdataset\u001b[0m\u001b[0;34m[\u001b[0m\u001b[0mi\u001b[0m\u001b[0;34m]\u001b[0m \u001b[0;32mfor\u001b[0m \u001b[0mi\u001b[0m \u001b[0;32min\u001b[0m \u001b[0mindices\u001b[0m\u001b[0;34m]\u001b[0m\u001b[0;34m)\u001b[0m\u001b[0;34m\u001b[0m\u001b[0;34m\u001b[0m\u001b[0m\n\u001b[0m\u001b[1;32m    561\u001b[0m             \u001b[0;32mif\u001b[0m \u001b[0mself\u001b[0m\u001b[0;34m.\u001b[0m\u001b[0mpin_memory\u001b[0m\u001b[0;34m:\u001b[0m\u001b[0;34m\u001b[0m\u001b[0;34m\u001b[0m\u001b[0m\n\u001b[1;32m    562\u001b[0m                 \u001b[0mbatch\u001b[0m \u001b[0;34m=\u001b[0m \u001b[0m_utils\u001b[0m\u001b[0;34m.\u001b[0m\u001b[0mpin_memory\u001b[0m\u001b[0;34m.\u001b[0m\u001b[0mpin_memory_batch\u001b[0m\u001b[0;34m(\u001b[0m\u001b[0mbatch\u001b[0m\u001b[0;34m)\u001b[0m\u001b[0;34m\u001b[0m\u001b[0;34m\u001b[0m\u001b[0m\n",
            "\u001b[0;32m~/pytorch_advanced/2_objectdetection/utils/ssd_model.py\u001b[0m in \u001b[0;36m__getitem__\u001b[0;34m(self, index)\u001b[0m\n\u001b[1;32m    238\u001b[0m         \u001b[0m前処理をした画像のテンソル形式のデータとアノテーションを取得\u001b[0m\u001b[0;34m\u001b[0m\u001b[0;34m\u001b[0m\u001b[0m\n\u001b[1;32m    239\u001b[0m         '''\n\u001b[0;32m--> 240\u001b[0;31m         \u001b[0mim\u001b[0m\u001b[0;34m,\u001b[0m \u001b[0mgt\u001b[0m\u001b[0;34m,\u001b[0m \u001b[0mh\u001b[0m\u001b[0;34m,\u001b[0m \u001b[0mw\u001b[0m \u001b[0;34m=\u001b[0m \u001b[0mself\u001b[0m\u001b[0;34m.\u001b[0m\u001b[0mpull_item\u001b[0m\u001b[0;34m(\u001b[0m\u001b[0mindex\u001b[0m\u001b[0;34m)\u001b[0m\u001b[0;34m\u001b[0m\u001b[0;34m\u001b[0m\u001b[0m\n\u001b[0m\u001b[1;32m    241\u001b[0m         \u001b[0;32mreturn\u001b[0m \u001b[0mim\u001b[0m\u001b[0;34m,\u001b[0m \u001b[0mgt\u001b[0m\u001b[0;34m\u001b[0m\u001b[0;34m\u001b[0m\u001b[0m\n\u001b[1;32m    242\u001b[0m \u001b[0;34m\u001b[0m\u001b[0m\n",
            "\u001b[0;32m~/pytorch_advanced/2_objectdetection/utils/ssd_model.py\u001b[0m in \u001b[0;36mpull_item\u001b[0;34m(self, index)\u001b[0m\n\u001b[1;32m    255\u001b[0m         \u001b[0;31m# 2. xml形式のアノテーション情報をリストに\u001b[0m\u001b[0;34m\u001b[0m\u001b[0;34m\u001b[0m\u001b[0;34m\u001b[0m\u001b[0m\n\u001b[1;32m    256\u001b[0m         \u001b[0manno_file_path\u001b[0m \u001b[0;34m=\u001b[0m \u001b[0mself\u001b[0m\u001b[0;34m.\u001b[0m\u001b[0manno_list\u001b[0m\u001b[0;34m[\u001b[0m\u001b[0mindex\u001b[0m\u001b[0;34m]\u001b[0m\u001b[0;34m\u001b[0m\u001b[0;34m\u001b[0m\u001b[0m\n\u001b[0;32m--> 257\u001b[0;31m         \u001b[0manno_list\u001b[0m \u001b[0;34m=\u001b[0m \u001b[0mself\u001b[0m\u001b[0;34m.\u001b[0m\u001b[0mtransform_anno\u001b[0m\u001b[0;34m(\u001b[0m\u001b[0manno_file_path\u001b[0m\u001b[0;34m,\u001b[0m \u001b[0mwidth\u001b[0m\u001b[0;34m,\u001b[0m \u001b[0mheight\u001b[0m\u001b[0;34m)\u001b[0m\u001b[0;34m\u001b[0m\u001b[0;34m\u001b[0m\u001b[0m\n\u001b[0m\u001b[1;32m    258\u001b[0m \u001b[0;34m\u001b[0m\u001b[0m\n\u001b[1;32m    259\u001b[0m         \u001b[0;31m# 3. 前処理を実施\u001b[0m\u001b[0;34m\u001b[0m\u001b[0;34m\u001b[0m\u001b[0;34m\u001b[0m\u001b[0m\n",
            "\u001b[0;32m~/pytorch_advanced/2_objectdetection/utils/ssd_model.py\u001b[0m in \u001b[0;36m__call__\u001b[0;34m(self, xml_path, width, height)\u001b[0m\n\u001b[1;32m    116\u001b[0m \u001b[0;34m\u001b[0m\u001b[0m\n\u001b[1;32m    117\u001b[0m         \u001b[0;31m# xmlファイルを読み込む\u001b[0m\u001b[0;34m\u001b[0m\u001b[0;34m\u001b[0m\u001b[0;34m\u001b[0m\u001b[0m\n\u001b[0;32m--> 118\u001b[0;31m         \u001b[0mxml\u001b[0m \u001b[0;34m=\u001b[0m \u001b[0mET\u001b[0m\u001b[0;34m.\u001b[0m\u001b[0mparse\u001b[0m\u001b[0;34m(\u001b[0m\u001b[0mxml_path\u001b[0m\u001b[0;34m)\u001b[0m\u001b[0;34m.\u001b[0m\u001b[0mgetroot\u001b[0m\u001b[0;34m(\u001b[0m\u001b[0;34m)\u001b[0m\u001b[0;34m\u001b[0m\u001b[0;34m\u001b[0m\u001b[0m\n\u001b[0m\u001b[1;32m    119\u001b[0m \u001b[0;34m\u001b[0m\u001b[0m\n\u001b[1;32m    120\u001b[0m         \u001b[0;31m# 画像内にある物体（object）の数だけループする\u001b[0m\u001b[0;34m\u001b[0m\u001b[0;34m\u001b[0m\u001b[0;34m\u001b[0m\u001b[0m\n",
            "\u001b[0;32m~/anaconda3/envs/ssd/lib/python3.6/xml/etree/ElementTree.py\u001b[0m in \u001b[0;36mparse\u001b[0;34m(source, parser)\u001b[0m\n\u001b[1;32m   1194\u001b[0m     \"\"\"\n\u001b[1;32m   1195\u001b[0m     \u001b[0mtree\u001b[0m \u001b[0;34m=\u001b[0m \u001b[0mElementTree\u001b[0m\u001b[0;34m(\u001b[0m\u001b[0;34m)\u001b[0m\u001b[0;34m\u001b[0m\u001b[0;34m\u001b[0m\u001b[0m\n\u001b[0;32m-> 1196\u001b[0;31m     \u001b[0mtree\u001b[0m\u001b[0;34m.\u001b[0m\u001b[0mparse\u001b[0m\u001b[0;34m(\u001b[0m\u001b[0msource\u001b[0m\u001b[0;34m,\u001b[0m \u001b[0mparser\u001b[0m\u001b[0;34m)\u001b[0m\u001b[0;34m\u001b[0m\u001b[0;34m\u001b[0m\u001b[0m\n\u001b[0m\u001b[1;32m   1197\u001b[0m     \u001b[0;32mreturn\u001b[0m \u001b[0mtree\u001b[0m\u001b[0;34m\u001b[0m\u001b[0;34m\u001b[0m\u001b[0m\n\u001b[1;32m   1198\u001b[0m \u001b[0;34m\u001b[0m\u001b[0m\n",
            "\u001b[0;32m~/anaconda3/envs/ssd/lib/python3.6/xml/etree/ElementTree.py\u001b[0m in \u001b[0;36mparse\u001b[0;34m(self, source, parser)\u001b[0m\n\u001b[1;32m    584\u001b[0m         \u001b[0mclose_source\u001b[0m \u001b[0;34m=\u001b[0m \u001b[0;32mFalse\u001b[0m\u001b[0;34m\u001b[0m\u001b[0;34m\u001b[0m\u001b[0m\n\u001b[1;32m    585\u001b[0m         \u001b[0;32mif\u001b[0m \u001b[0;32mnot\u001b[0m \u001b[0mhasattr\u001b[0m\u001b[0;34m(\u001b[0m\u001b[0msource\u001b[0m\u001b[0;34m,\u001b[0m \u001b[0;34m\"read\"\u001b[0m\u001b[0;34m)\u001b[0m\u001b[0;34m:\u001b[0m\u001b[0;34m\u001b[0m\u001b[0;34m\u001b[0m\u001b[0m\n\u001b[0;32m--> 586\u001b[0;31m             \u001b[0msource\u001b[0m \u001b[0;34m=\u001b[0m \u001b[0mopen\u001b[0m\u001b[0;34m(\u001b[0m\u001b[0msource\u001b[0m\u001b[0;34m,\u001b[0m \u001b[0;34m\"rb\"\u001b[0m\u001b[0;34m)\u001b[0m\u001b[0;34m\u001b[0m\u001b[0;34m\u001b[0m\u001b[0m\n\u001b[0m\u001b[1;32m    587\u001b[0m             \u001b[0mclose_source\u001b[0m \u001b[0;34m=\u001b[0m \u001b[0;32mTrue\u001b[0m\u001b[0;34m\u001b[0m\u001b[0;34m\u001b[0m\u001b[0m\n\u001b[1;32m    588\u001b[0m         \u001b[0;32mtry\u001b[0m\u001b[0;34m:\u001b[0m\u001b[0;34m\u001b[0m\u001b[0;34m\u001b[0m\u001b[0m\n",
            "\u001b[0;31mFileNotFoundError\u001b[0m: [Errno 2] No such file or directory: './data/VOCdevkit/VOChati/Annotations/1m50s.xml'"
          ]
        }
      ],
      "metadata": {
        "id": "BuOV3vkiJvlO",
        "outputId": "0a817057-95b0-4c31-f25a-9649d1d21a2f"
      }
    },
    {
      "cell_type": "markdown",
      "source": [
        "以上"
      ],
      "metadata": {
        "id": "KAXU63BxJvlP"
      }
    }
  ]
}